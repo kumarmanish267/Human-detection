{
  "cells": [
    {
      "cell_type": "code",
      "execution_count": 1,
      "metadata": {
        "id": "JJ28pxAEj3sR"
      },
      "outputs": [],
      "source": [
        "import cv2\n",
        "from imutils.object_detection import non_max_suppression\n",
        "import imutils\n",
        "import numpy as np\n",
        "import argparse\n",
        "from google.colab.patches import cv2_imshow\n",
        "from google.colab import drive\n",
        "from tqdm.notebook import tqdm\n"
      ]
    },
    {
      "cell_type": "code",
      "execution_count": 2,
      "metadata": {
        "id": "eIOnHcbbj_Mz"
      },
      "outputs": [],
      "source": [
        "def detect(frame): \n",
        "    bounding_box_cordinates, weights =  HOGCV.detectMultiScale(frame, winStride = (4, 4), padding = (4, 4), scale = 1.03)\n",
        "    person = 1\n",
        "    # x, y are the starting coordinates and w, h are width and height of box respectively\n",
        "    bounding_box_cordinates = np.array([[x, y, x + w, y + h] for (x, y, w, h) in bounding_box_cordinates])\n",
        "    # applying the Non Maximum Suppression(NMS) algorithm\n",
        "    pick = non_max_suppression(bounding_box_cordinates, probs=None, overlapThresh=0.37)\n",
        "    # drawing the final bounding boxes\n",
        "    for (xA, yA, xB, yB) in pick:\n",
        "        cv2.rectangle(frame, (xA, yA), (xB, yB), (0, 255, 0), 2)\n",
        "        person += 1\n",
        "    # adding text on the output screen\n",
        "    cv2.putText(frame, 'Status : Detected', (40,40), cv2.FONT_HERSHEY_DUPLEX, 0.5, (255,0,0), 2)\n",
        "    cv2.putText(frame, f'Total persons: {person-1}', (40,70), cv2.FONT_HERSHEY_DUPLEX, 0.5, (255,0,0), 2)\n",
        "    # cv2_imshow(frame)\n",
        "    \n",
        "    return frame, person\n",
        "\n",
        "\n",
        "# Detecting persons from an image\n",
        "def detectByPathImage(path, output_path):\n",
        "    image = cv2.imread(path)\n",
        "    image = imutils.resize(image, width = min(800, image.shape[1])) \n",
        "    result_image = detect(image)\n",
        "    if output_path is not None:\n",
        "        cv2.imwrite(output_path, result_image)\n",
        "    cv2.waitKey(0)\n",
        "    cv2.destroyAllWindows()\n",
        "if __name__ == \"__main__\":\n",
        "    # initializing the HOG descriptor\n",
        "    HOGCV = cv2.HOGDescriptor()\n",
        "    # setting the support vector machine (SVM) to be pre-trained\n",
        "    # calling the pre-trained model for human detection \n",
        "    HOGCV.setSVMDetector(cv2.HOGDescriptor_getDefaultPeopleDetector())\n",
        "    # calling the argParser for passed the arguments in the terminal\n",
        "    #args = argsParser()\n",
        "    image = cv2.imread('test.jpg')\n",
        "    #humanDetector(args)\n",
        "    detect(image)"
      ]
    },
    {
      "cell_type": "code",
      "source": [
        "\n",
        "\n",
        "import cv2\n",
        "# import torch\n",
        "# from torchvision.models.detection import fasterrcnn_resnet50_fpn\n",
        "\n",
        "def get_num_person(img_path):\n",
        "    img = cv2.imread(img_path)\n",
        "    \n",
        "    if img is None:\n",
        "        raise ValueError(\"Failed to load image at '{}'\".format(img_path))\n",
        "    \n",
        "    img = cv2.cvtColor(img, cv2.COLOR_BGR2GRAY)\n",
        "    \n",
        "    output, person = detect(img) \n",
        "   \n",
        "    \n",
        "    return output, person\n"
      ],
      "metadata": {
        "id": "jAiHpQ4ko1GF"
      },
      "execution_count": 3,
      "outputs": []
    },
    {
      "cell_type": "code",
      "source": [
        "drive.mount('/content/drive')"
      ],
      "metadata": {
        "id": "wcKq6VHcpTOX",
        "outputId": "3d95133b-99c8-405a-8201-1b44ccc1af25",
        "colab": {
          "base_uri": "https://localhost:8080/"
        }
      },
      "execution_count": 4,
      "outputs": [
        {
          "output_type": "stream",
          "name": "stdout",
          "text": [
            "Mounted at /content/drive\n"
          ]
        }
      ]
    },
    {
      "cell_type": "code",
      "source": [
        "base_path = \"/content/drive/MyDrive/dataset/\"\n",
        "true_path = \"/content/human_count - Sheet1.csv\"\n"
      ],
      "metadata": {
        "id": "nF4QkL02pbsw"
      },
      "execution_count": 5,
      "outputs": []
    },
    {
      "cell_type": "code",
      "source": [
        "preds=[]\n",
        "for i in tqdm(range(1,322)):\n",
        "  file_path = f\"{base_path}{str(i).rjust(3,'0')}.png\"\n",
        "  frame, person = get_num_person(file_path) \n",
        "  preds.append(person)"
      ],
      "metadata": {
        "id": "OmybcYUHp65Y",
        "outputId": "155fa73b-7e54-412b-d128-af2c4933318a",
        "colab": {
          "base_uri": "https://localhost:8080/",
          "height": 49,
          "referenced_widgets": [
            "60372cf749fc4dfa803585305b0cd6b2",
            "1f032ed1fb364679a71c2c728d00a841",
            "4a2fd3faaf304245b6c7ce41797cea15",
            "22979bd5522d4fa2aa2e01dd012a03e1",
            "a4a77f2746d740adbdd55907a1720864",
            "85f2ebcc6a4949f08b398f515d6e8f6c",
            "fc553319b8d94dba8d6eeaad2e857327",
            "374f224b9b0d46f3b647983a246227e7",
            "a14f2cbca3864bb5aedfb6e3c5d723a1",
            "b3a4beac61ff4191b526197c7041445f",
            "9cc0bab72cef48efbc258cad2d6b5ced"
          ]
        }
      },
      "execution_count": 6,
      "outputs": [
        {
          "output_type": "display_data",
          "data": {
            "text/plain": [
              "  0%|          | 0/321 [00:00<?, ?it/s]"
            ],
            "application/vnd.jupyter.widget-view+json": {
              "version_major": 2,
              "version_minor": 0,
              "model_id": "60372cf749fc4dfa803585305b0cd6b2"
            }
          },
          "metadata": {}
        }
      ]
    },
    {
      "cell_type": "code",
      "source": [
        "import pandas as pd\n",
        "df = pd.read_csv(\"/content/human_count - Sheet1 (2).csv\")"
      ],
      "metadata": {
        "id": "mL2gvDjqs25T"
      },
      "execution_count": 8,
      "outputs": []
    },
    {
      "cell_type": "code",
      "source": [
        "true_labels = df['pred']\n",
        "\n",
        "num_correct = 0\n",
        "num_total = len(preds)\n",
        "\n",
        "for pred, true in zip(preds, true_labels):\n",
        "  if pred == true: num_correct += 1\n",
        "  \n",
        "print(f\"Accuracy: {(num_correct / num_total) * 100}%\")"
      ],
      "metadata": {
        "id": "Iv6jk35gs6Lz",
        "outputId": "5b746727-1bca-48bd-8f76-d22d61178455",
        "colab": {
          "base_uri": "https://localhost:8080/"
        }
      },
      "execution_count": 9,
      "outputs": [
        {
          "output_type": "stream",
          "name": "stdout",
          "text": [
            "Accuracy: 19.937694704049843%\n"
          ]
        }
      ]
    },
    {
      "cell_type": "code",
      "source": [],
      "metadata": {
        "id": "Y0ib_HdLw9QA"
      },
      "execution_count": null,
      "outputs": []
    },
    {
      "cell_type": "code",
      "source": [],
      "metadata": {
        "id": "Dq7khwMrs9H4"
      },
      "execution_count": null,
      "outputs": []
    },
    {
      "cell_type": "code",
      "source": [],
      "metadata": {
        "id": "1JgZDJCDtAZX"
      },
      "execution_count": null,
      "outputs": []
    },
    {
      "cell_type": "code",
      "source": [],
      "metadata": {
        "id": "8hbW_aX-tDDu"
      },
      "execution_count": null,
      "outputs": []
    }
  ],
  "metadata": {
    "colab": {
      "provenance": [],
      "gpuType": "T4"
    },
    "kernelspec": {
      "display_name": "Python 3",
      "name": "python3"
    },
    "language_info": {
      "name": "python"
    },
    "accelerator": "GPU",
    "gpuClass": "standard",
    "widgets": {
      "application/vnd.jupyter.widget-state+json": {
        "60372cf749fc4dfa803585305b0cd6b2": {
          "model_module": "@jupyter-widgets/controls",
          "model_name": "HBoxModel",
          "model_module_version": "1.5.0",
          "state": {
            "_dom_classes": [],
            "_model_module": "@jupyter-widgets/controls",
            "_model_module_version": "1.5.0",
            "_model_name": "HBoxModel",
            "_view_count": null,
            "_view_module": "@jupyter-widgets/controls",
            "_view_module_version": "1.5.0",
            "_view_name": "HBoxView",
            "box_style": "",
            "children": [
              "IPY_MODEL_1f032ed1fb364679a71c2c728d00a841",
              "IPY_MODEL_4a2fd3faaf304245b6c7ce41797cea15",
              "IPY_MODEL_22979bd5522d4fa2aa2e01dd012a03e1"
            ],
            "layout": "IPY_MODEL_a4a77f2746d740adbdd55907a1720864"
          }
        },
        "1f032ed1fb364679a71c2c728d00a841": {
          "model_module": "@jupyter-widgets/controls",
          "model_name": "HTMLModel",
          "model_module_version": "1.5.0",
          "state": {
            "_dom_classes": [],
            "_model_module": "@jupyter-widgets/controls",
            "_model_module_version": "1.5.0",
            "_model_name": "HTMLModel",
            "_view_count": null,
            "_view_module": "@jupyter-widgets/controls",
            "_view_module_version": "1.5.0",
            "_view_name": "HTMLView",
            "description": "",
            "description_tooltip": null,
            "layout": "IPY_MODEL_85f2ebcc6a4949f08b398f515d6e8f6c",
            "placeholder": "​",
            "style": "IPY_MODEL_fc553319b8d94dba8d6eeaad2e857327",
            "value": "100%"
          }
        },
        "4a2fd3faaf304245b6c7ce41797cea15": {
          "model_module": "@jupyter-widgets/controls",
          "model_name": "FloatProgressModel",
          "model_module_version": "1.5.0",
          "state": {
            "_dom_classes": [],
            "_model_module": "@jupyter-widgets/controls",
            "_model_module_version": "1.5.0",
            "_model_name": "FloatProgressModel",
            "_view_count": null,
            "_view_module": "@jupyter-widgets/controls",
            "_view_module_version": "1.5.0",
            "_view_name": "ProgressView",
            "bar_style": "success",
            "description": "",
            "description_tooltip": null,
            "layout": "IPY_MODEL_374f224b9b0d46f3b647983a246227e7",
            "max": 321,
            "min": 0,
            "orientation": "horizontal",
            "style": "IPY_MODEL_a14f2cbca3864bb5aedfb6e3c5d723a1",
            "value": 321
          }
        },
        "22979bd5522d4fa2aa2e01dd012a03e1": {
          "model_module": "@jupyter-widgets/controls",
          "model_name": "HTMLModel",
          "model_module_version": "1.5.0",
          "state": {
            "_dom_classes": [],
            "_model_module": "@jupyter-widgets/controls",
            "_model_module_version": "1.5.0",
            "_model_name": "HTMLModel",
            "_view_count": null,
            "_view_module": "@jupyter-widgets/controls",
            "_view_module_version": "1.5.0",
            "_view_name": "HTMLView",
            "description": "",
            "description_tooltip": null,
            "layout": "IPY_MODEL_b3a4beac61ff4191b526197c7041445f",
            "placeholder": "​",
            "style": "IPY_MODEL_9cc0bab72cef48efbc258cad2d6b5ced",
            "value": " 321/321 [22:22&lt;00:00,  1.22s/it]"
          }
        },
        "a4a77f2746d740adbdd55907a1720864": {
          "model_module": "@jupyter-widgets/base",
          "model_name": "LayoutModel",
          "model_module_version": "1.2.0",
          "state": {
            "_model_module": "@jupyter-widgets/base",
            "_model_module_version": "1.2.0",
            "_model_name": "LayoutModel",
            "_view_count": null,
            "_view_module": "@jupyter-widgets/base",
            "_view_module_version": "1.2.0",
            "_view_name": "LayoutView",
            "align_content": null,
            "align_items": null,
            "align_self": null,
            "border": null,
            "bottom": null,
            "display": null,
            "flex": null,
            "flex_flow": null,
            "grid_area": null,
            "grid_auto_columns": null,
            "grid_auto_flow": null,
            "grid_auto_rows": null,
            "grid_column": null,
            "grid_gap": null,
            "grid_row": null,
            "grid_template_areas": null,
            "grid_template_columns": null,
            "grid_template_rows": null,
            "height": null,
            "justify_content": null,
            "justify_items": null,
            "left": null,
            "margin": null,
            "max_height": null,
            "max_width": null,
            "min_height": null,
            "min_width": null,
            "object_fit": null,
            "object_position": null,
            "order": null,
            "overflow": null,
            "overflow_x": null,
            "overflow_y": null,
            "padding": null,
            "right": null,
            "top": null,
            "visibility": null,
            "width": null
          }
        },
        "85f2ebcc6a4949f08b398f515d6e8f6c": {
          "model_module": "@jupyter-widgets/base",
          "model_name": "LayoutModel",
          "model_module_version": "1.2.0",
          "state": {
            "_model_module": "@jupyter-widgets/base",
            "_model_module_version": "1.2.0",
            "_model_name": "LayoutModel",
            "_view_count": null,
            "_view_module": "@jupyter-widgets/base",
            "_view_module_version": "1.2.0",
            "_view_name": "LayoutView",
            "align_content": null,
            "align_items": null,
            "align_self": null,
            "border": null,
            "bottom": null,
            "display": null,
            "flex": null,
            "flex_flow": null,
            "grid_area": null,
            "grid_auto_columns": null,
            "grid_auto_flow": null,
            "grid_auto_rows": null,
            "grid_column": null,
            "grid_gap": null,
            "grid_row": null,
            "grid_template_areas": null,
            "grid_template_columns": null,
            "grid_template_rows": null,
            "height": null,
            "justify_content": null,
            "justify_items": null,
            "left": null,
            "margin": null,
            "max_height": null,
            "max_width": null,
            "min_height": null,
            "min_width": null,
            "object_fit": null,
            "object_position": null,
            "order": null,
            "overflow": null,
            "overflow_x": null,
            "overflow_y": null,
            "padding": null,
            "right": null,
            "top": null,
            "visibility": null,
            "width": null
          }
        },
        "fc553319b8d94dba8d6eeaad2e857327": {
          "model_module": "@jupyter-widgets/controls",
          "model_name": "DescriptionStyleModel",
          "model_module_version": "1.5.0",
          "state": {
            "_model_module": "@jupyter-widgets/controls",
            "_model_module_version": "1.5.0",
            "_model_name": "DescriptionStyleModel",
            "_view_count": null,
            "_view_module": "@jupyter-widgets/base",
            "_view_module_version": "1.2.0",
            "_view_name": "StyleView",
            "description_width": ""
          }
        },
        "374f224b9b0d46f3b647983a246227e7": {
          "model_module": "@jupyter-widgets/base",
          "model_name": "LayoutModel",
          "model_module_version": "1.2.0",
          "state": {
            "_model_module": "@jupyter-widgets/base",
            "_model_module_version": "1.2.0",
            "_model_name": "LayoutModel",
            "_view_count": null,
            "_view_module": "@jupyter-widgets/base",
            "_view_module_version": "1.2.0",
            "_view_name": "LayoutView",
            "align_content": null,
            "align_items": null,
            "align_self": null,
            "border": null,
            "bottom": null,
            "display": null,
            "flex": null,
            "flex_flow": null,
            "grid_area": null,
            "grid_auto_columns": null,
            "grid_auto_flow": null,
            "grid_auto_rows": null,
            "grid_column": null,
            "grid_gap": null,
            "grid_row": null,
            "grid_template_areas": null,
            "grid_template_columns": null,
            "grid_template_rows": null,
            "height": null,
            "justify_content": null,
            "justify_items": null,
            "left": null,
            "margin": null,
            "max_height": null,
            "max_width": null,
            "min_height": null,
            "min_width": null,
            "object_fit": null,
            "object_position": null,
            "order": null,
            "overflow": null,
            "overflow_x": null,
            "overflow_y": null,
            "padding": null,
            "right": null,
            "top": null,
            "visibility": null,
            "width": null
          }
        },
        "a14f2cbca3864bb5aedfb6e3c5d723a1": {
          "model_module": "@jupyter-widgets/controls",
          "model_name": "ProgressStyleModel",
          "model_module_version": "1.5.0",
          "state": {
            "_model_module": "@jupyter-widgets/controls",
            "_model_module_version": "1.5.0",
            "_model_name": "ProgressStyleModel",
            "_view_count": null,
            "_view_module": "@jupyter-widgets/base",
            "_view_module_version": "1.2.0",
            "_view_name": "StyleView",
            "bar_color": null,
            "description_width": ""
          }
        },
        "b3a4beac61ff4191b526197c7041445f": {
          "model_module": "@jupyter-widgets/base",
          "model_name": "LayoutModel",
          "model_module_version": "1.2.0",
          "state": {
            "_model_module": "@jupyter-widgets/base",
            "_model_module_version": "1.2.0",
            "_model_name": "LayoutModel",
            "_view_count": null,
            "_view_module": "@jupyter-widgets/base",
            "_view_module_version": "1.2.0",
            "_view_name": "LayoutView",
            "align_content": null,
            "align_items": null,
            "align_self": null,
            "border": null,
            "bottom": null,
            "display": null,
            "flex": null,
            "flex_flow": null,
            "grid_area": null,
            "grid_auto_columns": null,
            "grid_auto_flow": null,
            "grid_auto_rows": null,
            "grid_column": null,
            "grid_gap": null,
            "grid_row": null,
            "grid_template_areas": null,
            "grid_template_columns": null,
            "grid_template_rows": null,
            "height": null,
            "justify_content": null,
            "justify_items": null,
            "left": null,
            "margin": null,
            "max_height": null,
            "max_width": null,
            "min_height": null,
            "min_width": null,
            "object_fit": null,
            "object_position": null,
            "order": null,
            "overflow": null,
            "overflow_x": null,
            "overflow_y": null,
            "padding": null,
            "right": null,
            "top": null,
            "visibility": null,
            "width": null
          }
        },
        "9cc0bab72cef48efbc258cad2d6b5ced": {
          "model_module": "@jupyter-widgets/controls",
          "model_name": "DescriptionStyleModel",
          "model_module_version": "1.5.0",
          "state": {
            "_model_module": "@jupyter-widgets/controls",
            "_model_module_version": "1.5.0",
            "_model_name": "DescriptionStyleModel",
            "_view_count": null,
            "_view_module": "@jupyter-widgets/base",
            "_view_module_version": "1.2.0",
            "_view_name": "StyleView",
            "description_width": ""
          }
        }
      }
    }
  },
  "nbformat": 4,
  "nbformat_minor": 0
}